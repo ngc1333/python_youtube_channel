{
 "cells": [
  {
   "cell_type": "code",
   "execution_count": 16,
   "metadata": {},
   "outputs": [],
   "source": [
    "import numpy as np\n",
    "import matplotlib.pyplot as plt\n",
    "from matplotlib import animation\n",
    "from matplotlib.animation import PillowWriter\n",
    "import numba\n",
    "from numba import jit\n",
    "\n",
    "from scipy.io import wavfile\n",
    "from IPython.display import Audio "
   ]
  },
  {
   "cell_type": "markdown",
   "metadata": {},
   "source": [
    "## Initialisation"
   ]
  },
  {
   "cell_type": "code",
   "execution_count": 145,
   "metadata": {},
   "outputs": [],
   "source": [
    "Nx = 101 ## points for the length of the string\n",
    "L =0.7\n",
    "dt = 5e-6\n",
    "dx = L/(Nx-1)\n",
    "\n",
    "l=2e-6\n",
    "gamma=2.6e-5\n",
    "\n",
    "f = 369.99 ## frequency of the note\n",
    "fps = int(1/dt)+1\n",
    "Nt = fps * 5 ## length of one note in s\n",
    "pick = 0.01 * 1 ## pick offset in cm\n",
    "c = 2*L*f\n",
    "\n",
    "#args = [c, Nt, Nx, dt, dx, l, gamma, pick]"
   ]
  },
  {
   "cell_type": "code",
   "execution_count": null,
   "metadata": {},
   "outputs": [],
   "source": []
  },
  {
   "cell_type": "code",
   "execution_count": null,
   "metadata": {},
   "outputs": [],
   "source": []
  },
  {
   "cell_type": "code",
   "execution_count": 146,
   "metadata": {},
   "outputs": [],
   "source": [
    "ya = np.linspace(0, pick, 70)\n",
    "yb = np.linspace(pick, 0, 31)\n",
    "y0 = np.concatenate([ya, yb])"
   ]
  },
  {
   "cell_type": "code",
   "execution_count": 147,
   "metadata": {},
   "outputs": [],
   "source": [
    "sol = np.zeros((int(Nt)+1, Nx))\n",
    "Nts = np.arange(Nt)\n",
    "cs =  c * (1 + 0.01*np.sin(2*np.pi* Nts / (0.05*Nt))*Nts/Nt)"
   ]
  },
  {
   "cell_type": "code",
   "execution_count": 148,
   "metadata": {},
   "outputs": [],
   "source": [
    "sol[0] = y0\n",
    "sol[1] = y0"
   ]
  },
  {
   "cell_type": "code",
   "execution_count": 149,
   "metadata": {},
   "outputs": [],
   "source": [
    "@numba.jit(\"f8[:,:](f8[:,:], f8[:], i8, i8, f8, f8, f8, f8)\", nopython=True, nogil=True)\n",
    "def compute_cd(d, cs, times, length, dt, dx, l, gamma):\n",
    "    for t in range(1, times-1):\n",
    "        for i in range(2, length-2):\n",
    "            outer_fact = (1/(cs[t]**2 * dt**2) + gamma/(2*dt))**(-1)\n",
    "            p1 = 1/dx**2 * (d[t][i-1] - 2*d[t][i] + d[t][i+1])\n",
    "            p2 = 1/(cs[t]**2 * dt**2) * (d[t-1][i] - 2*d[t][i])\n",
    "            p3 = gamma/(2*dt) * d[t-1][i]\n",
    "            p4 = l**2 / dx**4 * (d[t][i+2] - 4*d[t][i+1] + 6*d[t][i] - 4*d[t][i-1] + d[t][i-2])\n",
    "            d[t+1][i] = outer_fact * (p1 - p2 + p3 - p4)\n",
    "    return d"
   ]
  },
  {
   "cell_type": "code",
   "execution_count": 150,
   "metadata": {},
   "outputs": [],
   "source": [
    "sol_cs = compute_cd(sol, cs, Nt, Nx, dt, dx, l, gamma)"
   ]
  },
  {
   "cell_type": "code",
   "execution_count": 151,
   "metadata": {},
   "outputs": [],
   "source": [
    "def get_integral_fast(n):\n",
    "    sin_arr = np.sin(n*np.pi*np.linspace(0,1,101))\n",
    "    return np.multiply(sol, sin_arr).sum(axis=1)"
   ]
  },
  {
   "cell_type": "code",
   "execution_count": 152,
   "metadata": {},
   "outputs": [],
   "source": [
    "hms = [get_integral_fast(n) for n in range(10)]"
   ]
  },
  {
   "cell_type": "code",
   "execution_count": 153,
   "metadata": {},
   "outputs": [],
   "source": [
    "all_harmonics=False\n",
    "if all_harmonics:\n",
    "    tot = sol.sum(axis=1)[::10] # all harmonics\n",
    "else:\n",
    "    tot = sum(hms)[::10] # only first 10 harmonics\n",
    "tot = tot.astype(np.float32)"
   ]
  },
  {
   "cell_type": "code",
   "execution_count": 154,
   "metadata": {},
   "outputs": [],
   "source": [
    "#dist_tot = tot *np.exp(3*np.abs(tot)/np.abs(tot).max())\n",
    "#plt.plot(dist_tot)\n",
    "#plt.plot(tot)"
   ]
  },
  {
   "cell_type": "code",
   "execution_count": 155,
   "metadata": {},
   "outputs": [],
   "source": [
    "wavfile.write('fis2.wav',20000,tot)\n",
    "#wavfile.write('a.wav',20000,dist_tot)"
   ]
  },
  {
   "cell_type": "markdown",
   "metadata": {},
   "source": [
    "class NoteGenerator():\n",
    "\n",
    "    def __init__(self, f, vibrato, args):\n",
    "        self.args = args\n",
    "        self.grid = np.zeros((self.args[1], self.args[2]))\n",
    "        self.grid[0:1] = np.concatenate([np.linspace(0, self.args[7], 70), np.linspace(self.args[7], 0, 31)])\n",
    "        self.Nts = np.arange(self.args[1])\n",
    "        self.cs = self.args[0] * (1 + 0.01*np.sin(2*np.pi* self.Nts / (0.05*self.args[1]))*self.Nts/self.args[1])\n",
    "\n",
    "    @numba.jit(\"f8[:,:](f8[:,:], f8[:], i8, i8, f8, f8, f8, f8)\", nopython=True, nogil=True)\n",
    "    def compute_cd(self.grid, self.cs, self.args[1], self.args[2], self.args[3], self.args[4], self.args[5], self.args[6]):\n",
    "        for t in range(1, times-1):\n",
    "            for i in range(2, length-2):\n",
    "                outer_fact = (1/(cs[t]**2 * dt**2) + gamma/(2*dt))**(-1)\n",
    "                p1 = 1/dx**2 * (d[t][i-1] - 2*d[t][i] + d[t][i+1])\n",
    "                p2 = 1/(cs[t]**2 * dt**2) * (d[t-1][i] - 2*d[t][i])\n",
    "                p3 = gamma/(2*dt) * d[t-1][i]\n",
    "                p4 = l**2 / dx**4 * (d[t][i+2] - 4*d[t][i+1] + 6*d[t][i] - 4*d[t][i-1] + d[t][i-2])\n",
    "                d[t+1][i] = outer_fact * (p1 - p2 + p3 - p4)\n",
    "        return d"
   ]
  },
  {
   "cell_type": "code",
   "execution_count": 156,
   "metadata": {},
   "outputs": [],
   "source": [
    "e1 = wavfile.read('e1.wav')[1]\n",
    "gis1 = wavfile.read('gis1.wav')[1]\n",
    "h1 = wavfile.read('h1.wav')[1]\n",
    "wavfile.write('E_Chord.wav', 20000, e1+gis1+h1)"
   ]
  },
  {
   "cell_type": "code",
   "execution_count": 157,
   "metadata": {},
   "outputs": [],
   "source": [
    "g1 = wavfile.read('g1.wav')[1]\n",
    "h1 = wavfile.read('h1.wav')[1]\n",
    "d2 = wavfile.read('d2.wav')[1]\n",
    "wavfile.write('G_Chord.wav', 20000, g1+h1+d2)"
   ]
  },
  {
   "cell_type": "code",
   "execution_count": 158,
   "metadata": {},
   "outputs": [],
   "source": [
    "a1 = wavfile.read('a1.wav')[1]\n",
    "cis2 = wavfile.read('cis2.wav')[1][:100000]\n",
    "e2 = wavfile.read('e2.wav')[1][:100000]\n",
    "wavfile.write('A_Chord.wav', 20000, a1+cis2+e2)"
   ]
  },
  {
   "cell_type": "code",
   "execution_count": 162,
   "metadata": {},
   "outputs": [],
   "source": [
    "AChord = wavfile.read('A_Chord.wav')[1][:50000]\n",
    "EChord = wavfile.read('E_Chord.wav')[1][:50000]\n",
    "GChord = wavfile.read('G_Chord.wav')[1][:50000]"
   ]
  },
  {
   "cell_type": "code",
   "execution_count": 163,
   "metadata": {},
   "outputs": [],
   "source": [
    "E = np.concatenate([np.zeros(10000), EChord, np.zeros(70000)])\n",
    "G = np.concatenate([np.zeros(20000), GChord, np.zeros(60000)])\n",
    "A = np.concatenate([np.zeros(30000), AChord, np.zeros(50000)])\n",
    "\n",
    "E2 = np.concatenate([np.zeros(50000), EChord, np.zeros(30000)])\n",
    "G2 = np.concatenate([np.zeros(60000), EChord, np.zeros(20000)])\n",
    "FIS2 = np.concatenate([np.zeros(65000), wavfile.read('fis2.wav')[1][:50000], np.zeros(15000)])\n",
    "A2 = np.concatenate([np.zeros(70000), AChord, np.zeros(10000)])\n",
    "\n",
    "music = E + G + A + E2 + G2 + FIS2 + A2\n",
    "\n",
    "wavfile.write('Smoke.wav', 20000, music)"
   ]
  },
  {
   "cell_type": "code",
   "execution_count": null,
   "metadata": {},
   "outputs": [
    {
     "data": {
      "text/plain": [
       "array([ 9.0865898e-01,  9.0455729e-01,  8.9535248e-01, ...,\n",
       "       -5.1154487e-04,  5.2076241e-04,  1.5483816e-03], dtype=float32)"
      ]
     },
     "execution_count": 141,
     "metadata": {},
     "output_type": "execute_result"
    }
   ],
   "source": [
    "EChord"
   ]
  },
  {
   "cell_type": "code",
   "execution_count": null,
   "metadata": {},
   "outputs": [],
   "source": []
  }
 ],
 "metadata": {
  "kernelspec": {
   "display_name": "Python 3.8.12 ('base')",
   "language": "python",
   "name": "python3"
  },
  "language_info": {
   "codemirror_mode": {
    "name": "ipython",
    "version": 3
   },
   "file_extension": ".py",
   "mimetype": "text/x-python",
   "name": "python",
   "nbconvert_exporter": "python",
   "pygments_lexer": "ipython3",
   "version": "3.8.12"
  },
  "orig_nbformat": 4,
  "vscode": {
   "interpreter": {
    "hash": "4ab89ba51e9d8b7a5eba3759751cafe3b233e8e716d096834d66cd3a9964ede4"
   }
  }
 },
 "nbformat": 4,
 "nbformat_minor": 2
}
